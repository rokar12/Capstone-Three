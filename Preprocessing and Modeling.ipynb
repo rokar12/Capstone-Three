{
 "cells": [
  {
   "cell_type": "markdown",
   "id": "5e0b0ddf-e025-445c-aa6b-9db0ccef3c6c",
   "metadata": {},
   "source": [
    "## Predicting the Length of Stay in Hospital among Schizophrenic and Other Psychotic Disorders Patients Using Machine Learning"
   ]
  },
  {
   "cell_type": "markdown",
   "id": "759776b2-6975-451b-81a9-5dad6138d5df",
   "metadata": {},
   "source": [
    "**Introduction**\n",
    "\n",
    "The length of hospital stay (LOS) is a critical measure in healthcare, particularly in psychiatry, as it impacts both the quality of care and resource allocation. The length of stay is defined as: \t\n",
    "**\"The total number of patient days at an acute level and/or other than acute care level (excluding leave of absence days)\"**.\n",
    "Prolonged hospitalizations among patients with schizophrenia and psychotic disorders can increase healthcare costs and affect patients' mental health outcomes. This project aims to apply machine learning techniques to predict the LOS of such patients, enabling healthcare professionals to manage resources and develop personalized discharge plans proactively."
   ]
  },
  {
   "cell_type": "code",
   "execution_count": 2,
   "id": "1fbf4ec3-eb40-48ba-a200-d7b4e20189a8",
   "metadata": {},
   "outputs": [],
   "source": [
    "import pandas as pd\n",
    "import numpy as np\n",
    "import matplotlib.pyplot as plt\n",
    "import seaborn as sns\n",
    "from plotly.offline import iplot"
   ]
  },
  {
   "cell_type": "code",
   "execution_count": 4,
   "id": "db51efc1-e891-425c-aa38-c154a438d48c",
   "metadata": {},
   "outputs": [],
   "source": [
    "# Loading the dataset\n",
    "file_path = '/Users/shubray/Desktop/Hospital_Inpatient_Discharges.csv'"
   ]
  },
  {
   "cell_type": "code",
   "execution_count": 6,
   "id": "cfc52894-ce81-4305-a677-c557d1719600",
   "metadata": {},
   "outputs": [],
   "source": [
    "data = pd.read_csv(file_path, low_memory=False)"
   ]
  },
  {
   "cell_type": "code",
   "execution_count": 7,
   "id": "2e199036-6934-4061-b908-7cc9047a33b5",
   "metadata": {},
   "outputs": [
    {
     "name": "stdout",
     "output_type": "stream",
     "text": [
      "<class 'pandas.core.frame.DataFrame'>\n",
      "RangeIndex: 2135260 entries, 0 to 2135259\n",
      "Data columns (total 33 columns):\n",
      " #   Column                               Dtype  \n",
      "---  ------                               -----  \n",
      " 0   Hospital Service Area                object \n",
      " 1   Hospital County                      object \n",
      " 2   Operating Certificate Number         float64\n",
      " 3   Permanent Facility Id                float64\n",
      " 4   Facility Name                        object \n",
      " 5   Age Group                            object \n",
      " 6   Zip Code - 3 digits                  object \n",
      " 7   Gender                               object \n",
      " 8   Race                                 object \n",
      " 9   Ethnicity                            object \n",
      " 10  Length of Stay                       object \n",
      " 11  Type of Admission                    object \n",
      " 12  Patient Disposition                  object \n",
      " 13  Discharge Year                       int64  \n",
      " 14  CCSR Diagnosis Code                  object \n",
      " 15  CCSR Diagnosis Description           object \n",
      " 16  CCSR Procedure Code                  object \n",
      " 17  CCSR Procedure Description           object \n",
      " 18  APR DRG Code                         int64  \n",
      " 19  APR DRG Description                  object \n",
      " 20  APR MDC Code                         int64  \n",
      " 21  APR MDC Description                  object \n",
      " 22  APR Severity of Illness Code         int64  \n",
      " 23  APR Severity of Illness Description  object \n",
      " 24  APR Risk of Mortality                object \n",
      " 25  APR Medical Surgical Description     object \n",
      " 26  Payment Typology 1                   object \n",
      " 27  Payment Typology 2                   object \n",
      " 28  Payment Typology 3                   object \n",
      " 29  Birth Weight                         object \n",
      " 30  Emergency Department Indicator       object \n",
      " 31  Total Charges                        float64\n",
      " 32  Total Costs                          float64\n",
      "dtypes: float64(4), int64(4), object(25)\n",
      "memory usage: 537.6+ MB\n"
     ]
    }
   ],
   "source": [
    "data.info()"
   ]
  },
  {
   "cell_type": "code",
   "execution_count": 10,
   "id": "6fb21094-97ae-4925-8bbf-19d34c657d7b",
   "metadata": {},
   "outputs": [
    {
     "data": {
      "text/plain": [
       "(2135260, 33)"
      ]
     },
     "execution_count": 10,
     "metadata": {},
     "output_type": "execute_result"
    }
   ],
   "source": [
    "data.shape"
   ]
  },
  {
   "cell_type": "code",
   "execution_count": 12,
   "id": "e67539bd-a8ef-4ae6-906c-9de7c07f3e16",
   "metadata": {},
   "outputs": [
    {
     "name": "stdout",
     "output_type": "stream",
     "text": [
      "Hospital Service Area                   0.244186\n",
      "Hospital County                         0.244186\n",
      "Operating Certificate Number            0.312046\n",
      "Permanent Facility Id                   0.244186\n",
      "Facility Name                           0.000000\n",
      "Age Group                               0.000000\n",
      "Zip Code - 3 digits                     1.884829\n",
      "Gender                                  0.000000\n",
      "Race                                    0.000000\n",
      "Ethnicity                               0.000000\n",
      "Length of Stay                          0.000000\n",
      "Type of Admission                       0.000000\n",
      "Patient Disposition                     0.000000\n",
      "Discharge Year                          0.000000\n",
      "CCSR Diagnosis Code                     0.000000\n",
      "CCSR Diagnosis Description              0.000000\n",
      "CCSR Procedure Code                    27.312224\n",
      "CCSR Procedure Description             27.312224\n",
      "APR DRG Code                            0.000000\n",
      "APR DRG Description                     0.000000\n",
      "APR MDC Code                            0.000000\n",
      "APR MDC Description                     0.000000\n",
      "APR Severity of Illness Code            0.000000\n",
      "APR Severity of Illness Description     0.027584\n",
      "APR Risk of Mortality                   0.027584\n",
      "APR Medical Surgical Description        0.000000\n",
      "Payment Typology 1                      0.000000\n",
      "Payment Typology 2                     51.375523\n",
      "Payment Typology 3                     84.444424\n",
      "Birth Weight                           90.168551\n",
      "Emergency Department Indicator          0.000000\n",
      "Total Charges                           0.000000\n",
      "Total Costs                             0.000000\n",
      "dtype: float64\n"
     ]
    }
   ],
   "source": [
    "# Missing data percentage\n",
    "print(data.isnull().sum() / len(data) * 100)"
   ]
  },
  {
   "cell_type": "code",
   "execution_count": 14,
   "id": "6b196fdc-a972-4aab-80ca-8bf6bf6fd708",
   "metadata": {},
   "outputs": [],
   "source": [
    "# Drop irrelevant columns and excessive missing values\n",
    "data = data.drop(['Birth Weight','Payment Typology 2','Payment Typology 3','CCSR Procedure Code', 'Operating Certificate Number', 'Emergency Department Indicator'], axis=1)"
   ]
  },
  {
   "cell_type": "code",
   "execution_count": 16,
   "id": "93479aa9-1763-4878-8bb0-d06f2c82cc78",
   "metadata": {},
   "outputs": [
    {
     "data": {
      "text/html": [
       "<div>\n",
       "<style scoped>\n",
       "    .dataframe tbody tr th:only-of-type {\n",
       "        vertical-align: middle;\n",
       "    }\n",
       "\n",
       "    .dataframe tbody tr th {\n",
       "        vertical-align: top;\n",
       "    }\n",
       "\n",
       "    .dataframe thead th {\n",
       "        text-align: right;\n",
       "    }\n",
       "</style>\n",
       "<table border=\"1\" class=\"dataframe\">\n",
       "  <thead>\n",
       "    <tr style=\"text-align: right;\">\n",
       "      <th></th>\n",
       "      <th>Hospital Service Area</th>\n",
       "      <th>Hospital County</th>\n",
       "      <th>Permanent Facility Id</th>\n",
       "      <th>Facility Name</th>\n",
       "      <th>Age Group</th>\n",
       "      <th>Zip Code - 3 digits</th>\n",
       "      <th>Gender</th>\n",
       "      <th>Race</th>\n",
       "      <th>Ethnicity</th>\n",
       "      <th>Length of Stay</th>\n",
       "      <th>...</th>\n",
       "      <th>APR DRG Description</th>\n",
       "      <th>APR MDC Code</th>\n",
       "      <th>APR MDC Description</th>\n",
       "      <th>APR Severity of Illness Code</th>\n",
       "      <th>APR Severity of Illness Description</th>\n",
       "      <th>APR Risk of Mortality</th>\n",
       "      <th>APR Medical Surgical Description</th>\n",
       "      <th>Payment Typology 1</th>\n",
       "      <th>Total Charges</th>\n",
       "      <th>Total Costs</th>\n",
       "    </tr>\n",
       "  </thead>\n",
       "  <tbody>\n",
       "    <tr>\n",
       "      <th>0</th>\n",
       "      <td>New York City</td>\n",
       "      <td>Bronx</td>\n",
       "      <td>1169.0</td>\n",
       "      <td>Montefiore Medical Center - Henry &amp; Lucy Moses...</td>\n",
       "      <td>70 or Older</td>\n",
       "      <td>104</td>\n",
       "      <td>M</td>\n",
       "      <td>Other Race</td>\n",
       "      <td>Spanish/Hispanic</td>\n",
       "      <td>27</td>\n",
       "      <td>...</td>\n",
       "      <td>MAJOR RESPIRATORY INFECTIONS AND INFLAMMATIONS</td>\n",
       "      <td>4</td>\n",
       "      <td>DISEASES AND DISORDERS OF THE RESPIRATORY SYSTEM</td>\n",
       "      <td>3</td>\n",
       "      <td>Major</td>\n",
       "      <td>Extreme</td>\n",
       "      <td>Medical</td>\n",
       "      <td>Medicare</td>\n",
       "      <td>320922.43</td>\n",
       "      <td>60241.34</td>\n",
       "    </tr>\n",
       "    <tr>\n",
       "      <th>1</th>\n",
       "      <td>New York City</td>\n",
       "      <td>Bronx</td>\n",
       "      <td>1169.0</td>\n",
       "      <td>Montefiore Medical Center - Henry &amp; Lucy Moses...</td>\n",
       "      <td>50 to 69</td>\n",
       "      <td>104</td>\n",
       "      <td>F</td>\n",
       "      <td>White</td>\n",
       "      <td>Not Span/Hispanic</td>\n",
       "      <td>4</td>\n",
       "      <td>...</td>\n",
       "      <td>MULTIPLE SCLEROSIS, OTHER DEMYELINATING DISEAS...</td>\n",
       "      <td>1</td>\n",
       "      <td>DISEASES AND DISORDERS OF THE NERVOUS SYSTEM</td>\n",
       "      <td>2</td>\n",
       "      <td>Moderate</td>\n",
       "      <td>Minor</td>\n",
       "      <td>Medical</td>\n",
       "      <td>Private Health Insurance</td>\n",
       "      <td>61665.22</td>\n",
       "      <td>9180.69</td>\n",
       "    </tr>\n",
       "    <tr>\n",
       "      <th>2</th>\n",
       "      <td>New York City</td>\n",
       "      <td>Bronx</td>\n",
       "      <td>1168.0</td>\n",
       "      <td>Montefiore Medical Center-Wakefield Hospital</td>\n",
       "      <td>18 to 29</td>\n",
       "      <td>104</td>\n",
       "      <td>F</td>\n",
       "      <td>Other Race</td>\n",
       "      <td>Spanish/Hispanic</td>\n",
       "      <td>2</td>\n",
       "      <td>...</td>\n",
       "      <td>CESAREAN SECTION WITHOUT STERILIZATION</td>\n",
       "      <td>14</td>\n",
       "      <td>PREGNANCY, CHILDBIRTH AND THE PUERPERIUM</td>\n",
       "      <td>1</td>\n",
       "      <td>Minor</td>\n",
       "      <td>Minor</td>\n",
       "      <td>Surgical</td>\n",
       "      <td>Medicaid</td>\n",
       "      <td>42705.34</td>\n",
       "      <td>11366.50</td>\n",
       "    </tr>\n",
       "    <tr>\n",
       "      <th>3</th>\n",
       "      <td>New York City</td>\n",
       "      <td>Bronx</td>\n",
       "      <td>3058.0</td>\n",
       "      <td>Montefiore Med Center - Jack D Weiler Hosp of ...</td>\n",
       "      <td>70 or Older</td>\n",
       "      <td>104</td>\n",
       "      <td>M</td>\n",
       "      <td>Other Race</td>\n",
       "      <td>Spanish/Hispanic</td>\n",
       "      <td>5</td>\n",
       "      <td>...</td>\n",
       "      <td>KIDNEY AND URINARY TRACT INFECTIONS</td>\n",
       "      <td>11</td>\n",
       "      <td>DISEASES AND DISORDERS OF THE KIDNEY AND URINA...</td>\n",
       "      <td>3</td>\n",
       "      <td>Major</td>\n",
       "      <td>Major</td>\n",
       "      <td>Medical</td>\n",
       "      <td>Medicare</td>\n",
       "      <td>72700.17</td>\n",
       "      <td>12111.75</td>\n",
       "    </tr>\n",
       "    <tr>\n",
       "      <th>4</th>\n",
       "      <td>New York City</td>\n",
       "      <td>Bronx</td>\n",
       "      <td>1169.0</td>\n",
       "      <td>Montefiore Medical Center - Henry &amp; Lucy Moses...</td>\n",
       "      <td>50 to 69</td>\n",
       "      <td>104</td>\n",
       "      <td>F</td>\n",
       "      <td>Black/African American</td>\n",
       "      <td>Not Span/Hispanic</td>\n",
       "      <td>3</td>\n",
       "      <td>...</td>\n",
       "      <td>OTHER DISORDERS OF NERVOUS SYSTEM</td>\n",
       "      <td>1</td>\n",
       "      <td>DISEASES AND DISORDERS OF THE NERVOUS SYSTEM</td>\n",
       "      <td>2</td>\n",
       "      <td>Moderate</td>\n",
       "      <td>Minor</td>\n",
       "      <td>Medical</td>\n",
       "      <td>Medicare</td>\n",
       "      <td>55562.51</td>\n",
       "      <td>8339.72</td>\n",
       "    </tr>\n",
       "  </tbody>\n",
       "</table>\n",
       "<p>5 rows × 27 columns</p>\n",
       "</div>"
      ],
      "text/plain": [
       "  Hospital Service Area Hospital County  Permanent Facility Id  \\\n",
       "0         New York City           Bronx                 1169.0   \n",
       "1         New York City           Bronx                 1169.0   \n",
       "2         New York City           Bronx                 1168.0   \n",
       "3         New York City           Bronx                 3058.0   \n",
       "4         New York City           Bronx                 1169.0   \n",
       "\n",
       "                                       Facility Name    Age Group  \\\n",
       "0  Montefiore Medical Center - Henry & Lucy Moses...  70 or Older   \n",
       "1  Montefiore Medical Center - Henry & Lucy Moses...     50 to 69   \n",
       "2       Montefiore Medical Center-Wakefield Hospital     18 to 29   \n",
       "3  Montefiore Med Center - Jack D Weiler Hosp of ...  70 or Older   \n",
       "4  Montefiore Medical Center - Henry & Lucy Moses...     50 to 69   \n",
       "\n",
       "  Zip Code - 3 digits Gender                    Race          Ethnicity  \\\n",
       "0                 104      M              Other Race   Spanish/Hispanic   \n",
       "1                 104      F                   White  Not Span/Hispanic   \n",
       "2                 104      F              Other Race   Spanish/Hispanic   \n",
       "3                 104      M              Other Race   Spanish/Hispanic   \n",
       "4                 104      F  Black/African American  Not Span/Hispanic   \n",
       "\n",
       "  Length of Stay  ...                                APR DRG Description  \\\n",
       "0             27  ...     MAJOR RESPIRATORY INFECTIONS AND INFLAMMATIONS   \n",
       "1              4  ...  MULTIPLE SCLEROSIS, OTHER DEMYELINATING DISEAS...   \n",
       "2              2  ...             CESAREAN SECTION WITHOUT STERILIZATION   \n",
       "3              5  ...                KIDNEY AND URINARY TRACT INFECTIONS   \n",
       "4              3  ...                  OTHER DISORDERS OF NERVOUS SYSTEM   \n",
       "\n",
       "  APR MDC Code                                APR MDC Description  \\\n",
       "0            4   DISEASES AND DISORDERS OF THE RESPIRATORY SYSTEM   \n",
       "1            1       DISEASES AND DISORDERS OF THE NERVOUS SYSTEM   \n",
       "2           14           PREGNANCY, CHILDBIRTH AND THE PUERPERIUM   \n",
       "3           11  DISEASES AND DISORDERS OF THE KIDNEY AND URINA...   \n",
       "4            1       DISEASES AND DISORDERS OF THE NERVOUS SYSTEM   \n",
       "\n",
       "  APR Severity of Illness Code APR Severity of Illness Description  \\\n",
       "0                            3                               Major   \n",
       "1                            2                            Moderate   \n",
       "2                            1                               Minor   \n",
       "3                            3                               Major   \n",
       "4                            2                            Moderate   \n",
       "\n",
       "  APR Risk of Mortality  APR Medical Surgical Description  \\\n",
       "0               Extreme                           Medical   \n",
       "1                 Minor                           Medical   \n",
       "2                 Minor                          Surgical   \n",
       "3                 Major                           Medical   \n",
       "4                 Minor                           Medical   \n",
       "\n",
       "         Payment Typology 1  Total Charges Total Costs  \n",
       "0                  Medicare      320922.43    60241.34  \n",
       "1  Private Health Insurance       61665.22     9180.69  \n",
       "2                  Medicaid       42705.34    11366.50  \n",
       "3                  Medicare       72700.17    12111.75  \n",
       "4                  Medicare       55562.51     8339.72  \n",
       "\n",
       "[5 rows x 27 columns]"
      ]
     },
     "execution_count": 16,
     "metadata": {},
     "output_type": "execute_result"
    }
   ],
   "source": [
    "data.head()"
   ]
  },
  {
   "cell_type": "code",
   "execution_count": 18,
   "id": "6c905fea-ff81-49ef-8552-c934ddbf56e4",
   "metadata": {},
   "outputs": [
    {
     "data": {
      "image/png": "[encoded data removed]",
      "text/plain": [
       "<Figure size 1000x500 with 1 Axes>"
      ]
     },
     "metadata": {},
     "output_type": "display_data"
    }
   ],
   "source": [
    "# plotting top 10 diagnosis\n",
    "data['CCSR Diagnosis Description'].value_counts().head(10).plot(kind='barh', title='Top 10 Diagnoses', figsize=(10,5));"
   ]
  },
  {
   "cell_type": "code",
   "execution_count": 20,
   "id": "44233e5d-8d4a-4384-8cf7-96127333e7bd",
   "metadata": {},
   "outputs": [
    {
     "data": {
      "image/png": "[encoded data removed]",
      "text/plain": [
       "<Figure size 1000x500 with 1 Axes>"
      ]
     },
     "metadata": {},
     "output_type": "display_data"
    }
   ],
   "source": [
    "# plotting top 10 diagnosis related group \n",
    "data['APR DRG Description'].value_counts().head(10).plot(kind='barh', title='Top 10 DRG', figsize=(10,5));"
   ]
  },
  {
   "cell_type": "code",
   "execution_count": 22,
   "id": "8813750f-f10e-4f2f-b641-356e81a17618",
   "metadata": {},
   "outputs": [],
   "source": [
    "# Selecting rows where the 'CCSR Diagnosis Description' is 'Schizophrenia and other psychotic disorders'\n",
    "sch_data = data[data['CCSR Diagnosis Description'] == 'Schizophrenia spectrum and other psychotic disorders']"
   ]
  },
  {
   "cell_type": "code",
   "execution_count": 24,
   "id": "c5405b6a-f362-468b-bd92-6af4e867de74",
   "metadata": {},
   "outputs": [
    {
     "data": {
      "text/html": [
       "<div>\n",
       "<style scoped>\n",
       "    .dataframe tbody tr th:only-of-type {\n",
       "        vertical-align: middle;\n",
       "    }\n",
       "\n",
       "    .dataframe tbody tr th {\n",
       "        vertical-align: top;\n",
       "    }\n",
       "\n",
       "    .dataframe thead th {\n",
       "        text-align: right;\n",
       "    }\n",
       "</style>\n",
       "<table border=\"1\" class=\"dataframe\">\n",
       "  <thead>\n",
       "    <tr style=\"text-align: right;\">\n",
       "      <th></th>\n",
       "      <th>Hospital Service Area</th>\n",
       "      <th>Hospital County</th>\n",
       "      <th>Permanent Facility Id</th>\n",
       "      <th>Facility Name</th>\n",
       "      <th>Age Group</th>\n",
       "      <th>Zip Code - 3 digits</th>\n",
       "      <th>Gender</th>\n",
       "      <th>Race</th>\n",
       "      <th>Ethnicity</th>\n",
       "      <th>Length of Stay</th>\n",
       "      <th>...</th>\n",
       "      <th>APR DRG Description</th>\n",
       "      <th>APR MDC Code</th>\n",
       "      <th>APR MDC Description</th>\n",
       "      <th>APR Severity of Illness Code</th>\n",
       "      <th>APR Severity of Illness Description</th>\n",
       "      <th>APR Risk of Mortality</th>\n",
       "      <th>APR Medical Surgical Description</th>\n",
       "      <th>Payment Typology 1</th>\n",
       "      <th>Total Charges</th>\n",
       "      <th>Total Costs</th>\n",
       "    </tr>\n",
       "  </thead>\n",
       "  <tbody>\n",
       "    <tr>\n",
       "      <th>0</th>\n",
       "      <td>New York City</td>\n",
       "      <td>Kings</td>\n",
       "      <td>1294.0</td>\n",
       "      <td>Coney Island Hospital</td>\n",
       "      <td>30 to 49</td>\n",
       "      <td>NaN</td>\n",
       "      <td>M</td>\n",
       "      <td>Other Race</td>\n",
       "      <td>Unknown</td>\n",
       "      <td>24</td>\n",
       "      <td>...</td>\n",
       "      <td>SCHIZOPHRENIA</td>\n",
       "      <td>19</td>\n",
       "      <td>MENTAL DISEASES AND DISORDERS</td>\n",
       "      <td>2</td>\n",
       "      <td>Moderate</td>\n",
       "      <td>Moderate</td>\n",
       "      <td>Medical</td>\n",
       "      <td>Medicare</td>\n",
       "      <td>97625.72</td>\n",
       "      <td>44612.90</td>\n",
       "    </tr>\n",
       "    <tr>\n",
       "      <th>1</th>\n",
       "      <td>New York City</td>\n",
       "      <td>Manhattan</td>\n",
       "      <td>1438.0</td>\n",
       "      <td>Bellevue Hospital Center</td>\n",
       "      <td>50 to 69</td>\n",
       "      <td>OOS</td>\n",
       "      <td>M</td>\n",
       "      <td>Black/African American</td>\n",
       "      <td>Unknown</td>\n",
       "      <td>1</td>\n",
       "      <td>...</td>\n",
       "      <td>SCHIZOPHRENIA</td>\n",
       "      <td>19</td>\n",
       "      <td>MENTAL DISEASES AND DISORDERS</td>\n",
       "      <td>2</td>\n",
       "      <td>Moderate</td>\n",
       "      <td>Minor</td>\n",
       "      <td>Medical</td>\n",
       "      <td>Self-Pay</td>\n",
       "      <td>6051.00</td>\n",
       "      <td>3479.83</td>\n",
       "    </tr>\n",
       "    <tr>\n",
       "      <th>2</th>\n",
       "      <td>New York City</td>\n",
       "      <td>Bronx</td>\n",
       "      <td>1165.0</td>\n",
       "      <td>Jacobi Medical Center</td>\n",
       "      <td>18 to 29</td>\n",
       "      <td>104</td>\n",
       "      <td>M</td>\n",
       "      <td>Other Race</td>\n",
       "      <td>Not Span/Hispanic</td>\n",
       "      <td>1</td>\n",
       "      <td>...</td>\n",
       "      <td>MAJOR DEPRESSIVE DISORDERS AND OTHER OR UNSPEC...</td>\n",
       "      <td>19</td>\n",
       "      <td>MENTAL DISEASES AND DISORDERS</td>\n",
       "      <td>2</td>\n",
       "      <td>Moderate</td>\n",
       "      <td>Minor</td>\n",
       "      <td>Medical</td>\n",
       "      <td>Medicaid</td>\n",
       "      <td>6457.61</td>\n",
       "      <td>3832.84</td>\n",
       "    </tr>\n",
       "    <tr>\n",
       "      <th>3</th>\n",
       "      <td>New York City</td>\n",
       "      <td>Kings</td>\n",
       "      <td>1692.0</td>\n",
       "      <td>Woodhull Medical &amp; Mental Health Center</td>\n",
       "      <td>30 to 49</td>\n",
       "      <td>112</td>\n",
       "      <td>M</td>\n",
       "      <td>Black/African American</td>\n",
       "      <td>Not Span/Hispanic</td>\n",
       "      <td>1</td>\n",
       "      <td>...</td>\n",
       "      <td>MAJOR DEPRESSIVE DISORDERS AND OTHER OR UNSPEC...</td>\n",
       "      <td>19</td>\n",
       "      <td>MENTAL DISEASES AND DISORDERS</td>\n",
       "      <td>2</td>\n",
       "      <td>Moderate</td>\n",
       "      <td>Minor</td>\n",
       "      <td>Medical</td>\n",
       "      <td>Medicaid</td>\n",
       "      <td>5504.58</td>\n",
       "      <td>3751.86</td>\n",
       "    </tr>\n",
       "    <tr>\n",
       "      <th>4</th>\n",
       "      <td>Hudson Valley</td>\n",
       "      <td>Rockland</td>\n",
       "      <td>776.0</td>\n",
       "      <td>Montefiore Nyack</td>\n",
       "      <td>50 to 69</td>\n",
       "      <td>109</td>\n",
       "      <td>M</td>\n",
       "      <td>Black/African American</td>\n",
       "      <td>Not Span/Hispanic</td>\n",
       "      <td>9</td>\n",
       "      <td>...</td>\n",
       "      <td>SCHIZOPHRENIA</td>\n",
       "      <td>19</td>\n",
       "      <td>MENTAL DISEASES AND DISORDERS</td>\n",
       "      <td>2</td>\n",
       "      <td>Moderate</td>\n",
       "      <td>Minor</td>\n",
       "      <td>Medical</td>\n",
       "      <td>Private Health Insurance</td>\n",
       "      <td>54640.76</td>\n",
       "      <td>14877.09</td>\n",
       "    </tr>\n",
       "  </tbody>\n",
       "</table>\n",
       "<p>5 rows × 27 columns</p>\n",
       "</div>"
      ],
      "text/plain": [
       "  Hospital Service Area Hospital County  Permanent Facility Id  \\\n",
       "0         New York City           Kings                 1294.0   \n",
       "1         New York City       Manhattan                 1438.0   \n",
       "2         New York City           Bronx                 1165.0   \n",
       "3         New York City           Kings                 1692.0   \n",
       "4         Hudson Valley        Rockland                  776.0   \n",
       "\n",
       "                             Facility Name Age Group Zip Code - 3 digits  \\\n",
       "0                    Coney Island Hospital  30 to 49                 NaN   \n",
       "1                 Bellevue Hospital Center  50 to 69                 OOS   \n",
       "2                    Jacobi Medical Center  18 to 29                 104   \n",
       "3  Woodhull Medical & Mental Health Center  30 to 49                 112   \n",
       "4                         Montefiore Nyack  50 to 69                 109   \n",
       "\n",
       "  Gender                    Race          Ethnicity Length of Stay  ...  \\\n",
       "0      M              Other Race            Unknown             24  ...   \n",
       "1      M  Black/African American            Unknown              1  ...   \n",
       "2      M              Other Race  Not Span/Hispanic              1  ...   \n",
       "3      M  Black/African American  Not Span/Hispanic              1  ...   \n",
       "4      M  Black/African American  Not Span/Hispanic              9  ...   \n",
       "\n",
       "                                 APR DRG Description APR MDC Code  \\\n",
       "0                                      SCHIZOPHRENIA           19   \n",
       "1                                      SCHIZOPHRENIA           19   \n",
       "2  MAJOR DEPRESSIVE DISORDERS AND OTHER OR UNSPEC...           19   \n",
       "3  MAJOR DEPRESSIVE DISORDERS AND OTHER OR UNSPEC...           19   \n",
       "4                                      SCHIZOPHRENIA           19   \n",
       "\n",
       "             APR MDC Description APR Severity of Illness Code  \\\n",
       "0  MENTAL DISEASES AND DISORDERS                            2   \n",
       "1  MENTAL DISEASES AND DISORDERS                            2   \n",
       "2  MENTAL DISEASES AND DISORDERS                            2   \n",
       "3  MENTAL DISEASES AND DISORDERS                            2   \n",
       "4  MENTAL DISEASES AND DISORDERS                            2   \n",
       "\n",
       "  APR Severity of Illness Description APR Risk of Mortality  \\\n",
       "0                            Moderate              Moderate   \n",
       "1                            Moderate                 Minor   \n",
       "2                            Moderate                 Minor   \n",
       "3                            Moderate                 Minor   \n",
       "4                            Moderate                 Minor   \n",
       "\n",
       "   APR Medical Surgical Description        Payment Typology 1  Total Charges  \\\n",
       "0                           Medical                  Medicare       97625.72   \n",
       "1                           Medical                  Self-Pay        6051.00   \n",
       "2                           Medical                  Medicaid        6457.61   \n",
       "3                           Medical                  Medicaid        5504.58   \n",
       "4                           Medical  Private Health Insurance       54640.76   \n",
       "\n",
       "  Total Costs  \n",
       "0    44612.90  \n",
       "1     3479.83  \n",
       "2     3832.84  \n",
       "3     3751.86  \n",
       "4    14877.09  \n",
       "\n",
       "[5 rows x 27 columns]"
      ]
     },
     "execution_count": 24,
     "metadata": {},
     "output_type": "execute_result"
    }
   ],
   "source": [
    "sch_data.reset_index(drop=True, inplace=True)\n",
    "sch_data.head()"
   ]
  },
  {
   "cell_type": "code",
   "execution_count": 26,
   "id": "534020c9-dd39-4d65-968a-87c59cdf6310",
   "metadata": {},
   "outputs": [
    {
     "data": {
      "text/plain": [
       "Hospital Service Area                   object\n",
       "Hospital County                         object\n",
       "Permanent Facility Id                  float64\n",
       "Facility Name                           object\n",
       "Age Group                               object\n",
       "Zip Code - 3 digits                     object\n",
       "Gender                                  object\n",
       "Race                                    object\n",
       "Ethnicity                               object\n",
       "Length of Stay                          object\n",
       "Type of Admission                       object\n",
       "Patient Disposition                     object\n",
       "Discharge Year                           int64\n",
       "CCSR Diagnosis Code                     object\n",
       "CCSR Diagnosis Description              object\n",
       "CCSR Procedure Description              object\n",
       "APR DRG Code                             int64\n",
       "APR DRG Description                     object\n",
       "APR MDC Code                             int64\n",
       "APR MDC Description                     object\n",
       "APR Severity of Illness Code             int64\n",
       "APR Severity of Illness Description     object\n",
       "APR Risk of Mortality                   object\n",
       "APR Medical Surgical Description        object\n",
       "Payment Typology 1                      object\n",
       "Total Charges                          float64\n",
       "Total Costs                            float64\n",
       "dtype: object"
      ]
     },
     "execution_count": 26,
     "metadata": {},
     "output_type": "execute_result"
    }
   ],
   "source": [
    "sch_data.dtypes"
   ]
  },
  {
   "cell_type": "code",
   "execution_count": 28,
   "id": "e4d48d0a-9c02-43e2-84f3-933e8c93e63a",
   "metadata": {},
   "outputs": [],
   "source": [
    "# Select numerical columns in sch_data\n",
    "num_col_sch = sch_data.select_dtypes(include=['int64', 'float64'])\n",
    "\n",
    "# Check for missing values in numerical columns\n",
    "missing_values_num_sch = num_col_sch.isnull().sum()\n",
    "\n",
    "# Filter columns that have missing values\n",
    "missing_values_num_sch = missing_values_num_sch[missing_values_num_sch > 0]\n",
    "\n",
    "# fill missing values in numerical columns with median\n",
    "sch_data.loc[:, num_col_sch.columns] = num_col_sch.fillna(num_col_sch.median())\n"
   ]
  },
  {
   "cell_type": "code",
   "execution_count": 30,
   "id": "bc167be7-6757-4239-9d42-f3469e42f4d4",
   "metadata": {},
   "outputs": [],
   "source": [
    "# Select categorical columns in sch_data\n",
    "cat_col_sch = sch_data.select_dtypes(include=['object', 'category'])\n",
    "\n",
    "# Check for missing values in categorical columns\n",
    "missing_values_cat_sch = cat_col_sch.isnull().sum()\n",
    "\n",
    "# Filter columns that have missing values\n",
    "missing_values_cat_sch = missing_values_cat_sch[missing_values_cat_sch > 0]\n",
    "\n"
   ]
  },
  {
   "cell_type": "markdown",
   "id": "491004c7-e832-4546-88b8-2046f4e17978",
   "metadata": {},
   "source": [
    "### Encoding Categorical Variables"
   ]
  },
  {
   "cell_type": "code",
   "execution_count": 33,
   "id": "fce05259-e5e3-43f8-85f0-523a3d524b2f",
   "metadata": {},
   "outputs": [],
   "source": [
    "# convert categorical variables into numerical and fill missing values\n",
    "for label, content in sch_data.items():\n",
    "    if not pd.api.types.is_numeric_dtype(content):  # Check if the column is not numeric\n",
    "        # Use .loc to modify the DataFrame and fill in categorical codes\n",
    "        sch_data.loc[:, label] = pd.Categorical(content).codes + 1  # Adding +1 to avoid negative values for NaN categories"
   ]
  },
  {
   "cell_type": "code",
   "execution_count": 35,
   "id": "195ee132-618c-46d8-aab5-67ea06236f17",
   "metadata": {},
   "outputs": [
    {
     "data": {
      "text/plain": [
       "Hospital Service Area                  0\n",
       "Hospital County                        0\n",
       "Permanent Facility Id                  0\n",
       "Facility Name                          0\n",
       "Age Group                              0\n",
       "Zip Code - 3 digits                    0\n",
       "Gender                                 0\n",
       "Race                                   0\n",
       "Ethnicity                              0\n",
       "Length of Stay                         0\n",
       "Type of Admission                      0\n",
       "Patient Disposition                    0\n",
       "Discharge Year                         0\n",
       "CCSR Diagnosis Code                    0\n",
       "CCSR Diagnosis Description             0\n",
       "CCSR Procedure Description             0\n",
       "APR DRG Code                           0\n",
       "APR DRG Description                    0\n",
       "APR MDC Code                           0\n",
       "APR MDC Description                    0\n",
       "APR Severity of Illness Code           0\n",
       "APR Severity of Illness Description    0\n",
       "APR Risk of Mortality                  0\n",
       "APR Medical Surgical Description       0\n",
       "Payment Typology 1                     0\n",
       "Total Charges                          0\n",
       "Total Costs                            0\n",
       "dtype: int64"
      ]
     },
     "execution_count": 35,
     "metadata": {},
     "output_type": "execute_result"
    }
   ],
   "source": [
    "sch_data.isna().sum()"
   ]
  },
  {
   "cell_type": "markdown",
   "id": "2d5d2781-8b86-42f3-b18c-5ba46d226b29",
   "metadata": {},
   "source": [
    "### Exploratory Data Analysis"
   ]
  },
  {
   "cell_type": "code",
   "execution_count": 38,
   "id": "c1f8d329-3312-4061-ada2-971cd5512e89",
   "metadata": {},
   "outputs": [],
   "source": [
    "# Select columns that are relevant for Schizophrenia and Length of Stay\n",
    "rel_col = [\n",
    "    'Length of Stay','Age Group','Gender','Race', 'Ethnicity','APR Severity of Illness Description','APR DRG Description','APR Risk of Mortality'\n",
    "]"
   ]
  },
  {
   "cell_type": "code",
   "execution_count": 40,
   "id": "7d8b3c7f-6e35-414d-bcaa-2aae1fe17d60",
   "metadata": {},
   "outputs": [],
   "source": [
    "# Create a subset DataFrame with only the relevant columns\n",
    "sch_data_rel = sch_data[rel_col]"
   ]
  },
  {
   "cell_type": "code",
   "execution_count": 42,
   "id": "0f8b47e7-1986-4c4c-adcb-dc3679b732e9",
   "metadata": {},
   "outputs": [
    {
     "data": {
      "text/html": [
       "<div>\n",
       "<style scoped>\n",
       "    .dataframe tbody tr th:only-of-type {\n",
       "        vertical-align: middle;\n",
       "    }\n",
       "\n",
       "    .dataframe tbody tr th {\n",
       "        vertical-align: top;\n",
       "    }\n",
       "\n",
       "    .dataframe thead th {\n",
       "        text-align: right;\n",
       "    }\n",
       "</style>\n",
       "<table border=\"1\" class=\"dataframe\">\n",
       "  <thead>\n",
       "    <tr style=\"text-align: right;\">\n",
       "      <th></th>\n",
       "      <th>Length of Stay</th>\n",
       "      <th>Age Group</th>\n",
       "      <th>Gender</th>\n",
       "      <th>Race</th>\n",
       "      <th>Ethnicity</th>\n",
       "      <th>APR Severity of Illness Description</th>\n",
       "      <th>APR DRG Description</th>\n",
       "      <th>APR Risk of Mortality</th>\n",
       "    </tr>\n",
       "  </thead>\n",
       "  <tbody>\n",
       "    <tr>\n",
       "      <th>0</th>\n",
       "      <td>38</td>\n",
       "      <td>3</td>\n",
       "      <td>2</td>\n",
       "      <td>3</td>\n",
       "      <td>4</td>\n",
       "      <td>4</td>\n",
       "      <td>8</td>\n",
       "      <td>4</td>\n",
       "    </tr>\n",
       "    <tr>\n",
       "      <th>1</th>\n",
       "      <td>1</td>\n",
       "      <td>4</td>\n",
       "      <td>2</td>\n",
       "      <td>1</td>\n",
       "      <td>4</td>\n",
       "      <td>4</td>\n",
       "      <td>8</td>\n",
       "      <td>3</td>\n",
       "    </tr>\n",
       "    <tr>\n",
       "      <th>2</th>\n",
       "      <td>1</td>\n",
       "      <td>2</td>\n",
       "      <td>2</td>\n",
       "      <td>3</td>\n",
       "      <td>2</td>\n",
       "      <td>4</td>\n",
       "      <td>4</td>\n",
       "      <td>3</td>\n",
       "    </tr>\n",
       "    <tr>\n",
       "      <th>3</th>\n",
       "      <td>1</td>\n",
       "      <td>3</td>\n",
       "      <td>2</td>\n",
       "      <td>1</td>\n",
       "      <td>2</td>\n",
       "      <td>4</td>\n",
       "      <td>4</td>\n",
       "      <td>3</td>\n",
       "    </tr>\n",
       "    <tr>\n",
       "      <th>4</th>\n",
       "      <td>110</td>\n",
       "      <td>4</td>\n",
       "      <td>2</td>\n",
       "      <td>1</td>\n",
       "      <td>2</td>\n",
       "      <td>4</td>\n",
       "      <td>8</td>\n",
       "      <td>3</td>\n",
       "    </tr>\n",
       "  </tbody>\n",
       "</table>\n",
       "</div>"
      ],
      "text/plain": [
       "  Length of Stay Age Group Gender Race Ethnicity  \\\n",
       "0             38         3      2    3         4   \n",
       "1              1         4      2    1         4   \n",
       "2              1         2      2    3         2   \n",
       "3              1         3      2    1         2   \n",
       "4            110         4      2    1         2   \n",
       "\n",
       "  APR Severity of Illness Description APR DRG Description  \\\n",
       "0                                   4                   8   \n",
       "1                                   4                   8   \n",
       "2                                   4                   4   \n",
       "3                                   4                   4   \n",
       "4                                   4                   8   \n",
       "\n",
       "  APR Risk of Mortality  \n",
       "0                     4  \n",
       "1                     3  \n",
       "2                     3  \n",
       "3                     3  \n",
       "4                     3  "
      ]
     },
     "execution_count": 42,
     "metadata": {},
     "output_type": "execute_result"
    }
   ],
   "source": [
    "sch_data_rel.head()"
   ]
  },
  {
   "cell_type": "code",
   "execution_count": 44,
   "id": "3c70f45b-a3a6-4dde-840c-bcde1053c86a",
   "metadata": {},
   "outputs": [
    {
     "data": {
      "image/png": "[encoded data removed]",
      "text/plain": [
       "<Figure size 1000x800 with 2 Axes>"
      ]
     },
     "metadata": {},
     "output_type": "display_data"
    }
   ],
   "source": [
    "# Calculate the correlation matrix\n",
    "corr_matrix = sch_data_rel.corr()\n",
    "\n",
    "# Plot the heatmap for the selected columns\n",
    "plt.figure(figsize=(10, 8))\n",
    "sns.heatmap(corr_matrix, annot=True, cmap=\"coolwarm\", linewidths=0.5)\n",
    "plt.title(\"Correlation Heatmap for Selected Features Related to Schizophrenia\")\n",
    "plt.show()"
   ]
  },
  {
   "cell_type": "code",
   "execution_count": 46,
   "id": "2aefbad9-d87c-4620-be70-704e6da04fff",
   "metadata": {},
   "outputs": [
    {
     "data": {
      "image/png": "[encoded data removed]",
      "text/plain": [
       "<Figure size 1000x600 with 1 Axes>"
      ]
     },
     "metadata": {},
     "output_type": "display_data"
    }
   ],
   "source": [
    "# Create a histogram of Length of Stay in the schizophrenia dataset\n",
    "plt.figure(figsize=(10,6))\n",
    "plt.hist(sch_data['Length of Stay'], bins=10, edgecolor='black', color='skyblue')\n",
    "plt.title('Distribution of Length of Stay in Hospital for Schizophrenia and other psychotic Patients')\n",
    "plt.xlabel('Length of Stay (days)')\n",
    "plt.ylabel('Frequency')\n",
    "plt.grid(True)\n",
    "plt.show()"
   ]
  },
  {
   "cell_type": "markdown",
   "id": "9643ab62-0d07-4dde-ac56-86ee9919ee74",
   "metadata": {},
   "source": [
    "## Modeling"
   ]
  },
  {
   "cell_type": "code",
   "execution_count": 49,
   "id": "e2210759-a377-4baa-9b97-f5c6df4ee878",
   "metadata": {},
   "outputs": [],
   "source": [
    "from sklearn.model_selection import train_test_split\n",
    "from sklearn.preprocessing import StandardScaler\n",
    "from sklearn.metrics import mean_absolute_error, mean_squared_error\n",
    "from sklearn.linear_model import LinearRegression\n",
    "from sklearn.ensemble import RandomForestRegressor\n",
    "from sklearn.ensemble import GradientBoostingRegressor\n",
    "from sklearn.tree import DecisionTreeRegressor\n",
    "from sklearn.neighbors import KNeighborsRegressor"
   ]
  },
  {
   "cell_type": "code",
   "execution_count": 51,
   "id": "4d7be7fb-4ed6-4d82-956a-8748bce73d5d",
   "metadata": {},
   "outputs": [],
   "source": [
    "# putting models in a dictionary\n",
    "models = {\"Linear Regression\": LinearRegression(),\n",
    "          \"DecisionTree Regressor\": DecisionTreeRegressor(),\n",
    "          \"Random Forest\": RandomForestRegressor(),\n",
    "          \"gradientboosting\": GradientBoostingRegressor(),\n",
    "         }"
   ]
  },
  {
   "cell_type": "code",
   "execution_count": 53,
   "id": "f63d8ed2-f34d-4a5c-a672-a3cb6ccd9804",
   "metadata": {},
   "outputs": [],
   "source": [
    "def fit_and_score(models, X_train, X_test, y_train, y_test):\n",
    "    model_scores = {}  # Dictionary to store model names and their scores\n",
    "\n",
    "    # Looping through each model in the models dictionary\n",
    "    for name, model in models.items():\n",
    "        # Fitting the model to the training data\n",
    "        model.fit(x_train, y_train)\n",
    "        \n",
    "        # Evaluating the model on the test data and appending its score to model_scores\n",
    "        model_scores[name] = model.score(x_test, y_test)\n",
    "    \n",
    "    return model_scores\n"
   ]
  },
  {
   "cell_type": "code",
   "execution_count": 55,
   "id": "24a53807-2482-4833-a3b6-ec001ab75da3",
   "metadata": {},
   "outputs": [],
   "source": [
    "# splitting the data into X and y\n",
    "x = sch_data.drop('Length of Stay', axis = 1)\n",
    "y = sch_data['Length of Stay']"
   ]
  },
  {
   "cell_type": "code",
   "execution_count": 57,
   "id": "d266e568-53c9-40b3-b0b3-0b6716ac5468",
   "metadata": {},
   "outputs": [],
   "source": [
    "# splitting data into train and test set\n",
    "\n",
    "np.random.seed(42)\n",
    "\n",
    "x_train, x_test, y_train, y_test = train_test_split(x, y, test_size=0.2)"
   ]
  },
  {
   "cell_type": "code",
   "execution_count": 59,
   "id": "65043b27-d155-4156-bd28-9234936e2673",
   "metadata": {},
   "outputs": [
    {
     "data": {
      "text/plain": [
       "((30424, 26), (30424,), (7606, 26), (7606,))"
      ]
     },
     "execution_count": 59,
     "metadata": {},
     "output_type": "execute_result"
    }
   ],
   "source": [
    "x_train.shape, y_train.shape, x_test.shape, y_test.shape"
   ]
  },
  {
   "cell_type": "code",
   "execution_count": 61,
   "id": "17c21bee-c043-42d8-ac00-45a36a6569dd",
   "metadata": {},
   "outputs": [],
   "source": [
    "# scalling the data\n",
    "\n",
    "scaler = StandardScaler()\n",
    "\n",
    "x_train = scaler.fit_transform(x_train)\n",
    "x_test = scaler.transform(x_test)"
   ]
  },
  {
   "cell_type": "code",
   "execution_count": 63,
   "id": "6ab2be86-f362-4960-9aef-0c6d4a4052be",
   "metadata": {},
   "outputs": [
    {
     "name": "stdout",
     "output_type": "stream",
     "text": [
      "CPU times: user 12.6 s, sys: 1.43 s, total: 14 s\n",
      "Wall time: 12.2 s\n"
     ]
    },
    {
     "data": {
      "text/plain": [
       "{'Linear Regression': 0.024362445126672072,\n",
       " 'DecisionTree Regressor': 0.5468193148419038,\n",
       " 'Random Forest': 0.7581216857913454,\n",
       " 'gradientboosting': 0.4062049058495799}"
      ]
     },
     "execution_count": 63,
     "metadata": {},
     "output_type": "execute_result"
    }
   ],
   "source": [
    "%%time\n",
    "scores = fit_and_score(models=models,\n",
    "                             X_train=x_train,\n",
    "                             X_test=x_test,\n",
    "                             y_train=y_train,\n",
    "                             y_test=y_test)\n",
    "scores"
   ]
  },
  {
   "cell_type": "code",
   "execution_count": 65,
   "id": "fad5c54d-001a-433c-86ce-572bd78f31fc",
   "metadata": {},
   "outputs": [
    {
     "data": {
      "image/png": "[encoded data removed]",
      "text/plain": [
       "<Figure size 700x400 with 1 Axes>"
      ]
     },
     "metadata": {},
     "output_type": "display_data"
    }
   ],
   "source": [
    "# Assuming `scores` is a dictionary with model names as keys and R2 scores as values\n",
    "scores = {\n",
    "    'Linear Regression': 0.02,\n",
    "    'Random Forest': 0.76,\n",
    "    'DecisionTree Regressor': 0.55,\n",
    "    'Gradient Boosting': 0.41\n",
    "}\n",
    "\n",
    "# Plotting the R2 scores using matplotlib\n",
    "plt.figure(figsize=(7, 4))\n",
    "plt.bar(scores.keys(), scores.values(), color='skyblue')\n",
    "plt.xlabel(\"Model\")\n",
    "plt.ylabel(\"R2 Score\")\n",
    "plt.title(\"R2 Score of Different Models\")\n",
    "plt.ylim(0, 1)\n",
    "plt.xticks(rotation=90)\n",
    "plt.show()"
   ]
  },
  {
   "cell_type": "code",
   "execution_count": 67,
   "id": "baab607e-c527-4d65-9d39-f0084b32892e",
   "metadata": {},
   "outputs": [
    {
     "name": "stdout",
     "output_type": "stream",
     "text": [
      "MAE: 24.980089255798774, MSE: 921.7485618998938, RMSE: 30.360312282647783\n"
     ]
    }
   ],
   "source": [
    "# Define features and target variable\n",
    "X = sch_data.drop(['Length of Stay'], axis=1)\n",
    "y = sch_data['Length of Stay']\n",
    "\n",
    "# Split the data into training and testing sets with an 80-20 split\n",
    "X_train, X_test, y_train, y_test = train_test_split(X, y, test_size=0.2, random_state=42)\n",
    "\n",
    "# Identify numerical columns\n",
    "num_features = X_train.select_dtypes(include=['int64', 'float64']).columns\n",
    "\n",
    "# Scale numerical features\n",
    "scaler = StandardScaler()\n",
    "X_train[num_features] = scaler.fit_transform(X_train[num_features])\n",
    "X_test[num_features] = scaler.transform(X_test[num_features])\n",
    "\n",
    "# Initialize and train a simple linear regression model\n",
    "model = LinearRegression()\n",
    "model.fit(X_train, y_train)\n",
    "\n",
    "# Predict and evaluate\n",
    "y_pred = model.predict(X_test)\n",
    "mae = mean_absolute_error(y_test, y_pred)\n",
    "mse = mean_squared_error(y_test, y_pred)\n",
    "rmse = mse ** 0.5\n",
    "\n",
    "print(f\"MAE: {mae}, MSE: {mse}, RMSE: {rmse}\")\n"
   ]
  },
  {
   "cell_type": "code",
   "execution_count": 69,
   "id": "675d8cb5-0953-43e0-9d8f-706e60c58fff",
   "metadata": {},
   "outputs": [
    {
     "name": "stdout",
     "output_type": "stream",
     "text": [
      "Decision Tree Regressor MAE: 7.464238758874573\n",
      "Decision Tree Regressor MSE: 426.0311596108335\n",
      "Decision Tree Regressor RMSE: 20.6405222707865\n"
     ]
    }
   ],
   "source": [
    "from sklearn.tree import DecisionTreeRegressor\n",
    "from sklearn.metrics import mean_absolute_error, mean_squared_error\n",
    "\n",
    "# Initialize the Decision Tree Regressor with default parameters\n",
    "tree_model = DecisionTreeRegressor(random_state=42)\n",
    "\n",
    "# Train the model on the training data\n",
    "tree_model.fit(X_train, y_train)\n",
    "\n",
    "# Predict on the test set\n",
    "y_pred_tree = tree_model.predict(X_test)\n",
    "\n",
    "# Calculate evaluation metrics\n",
    "mae_tree = mean_absolute_error(y_test, y_pred_tree)\n",
    "mse_tree = mean_squared_error(y_test, y_pred_tree)\n",
    "rmse_tree = mse_tree ** 0.5\n",
    "\n",
    "# Display results\n",
    "print(f\"Decision Tree Regressor MAE: {mae_tree}\")\n",
    "print(f\"Decision Tree Regressor MSE: {mse_tree}\")\n",
    "print(f\"Decision Tree Regressor RMSE: {rmse_tree}\")"
   ]
  },
  {
   "cell_type": "code",
   "execution_count": 71,
   "id": "85000e8b-8ef7-43fb-b538-2fa4658aa498",
   "metadata": {},
   "outputs": [
    {
     "name": "stdout",
     "output_type": "stream",
     "text": [
      "Random Forest Regressor MAE: 6.838319406358388\n",
      "Random Forest Regressor MSE: 229.752576783966\n",
      "Random Forest Regressor RMSE: 15.157591391245708\n"
     ]
    }
   ],
   "source": [
    "from sklearn.ensemble import RandomForestRegressor\n",
    "from sklearn.metrics import mean_absolute_error, mean_squared_error\n",
    "\n",
    "# Initialize the Random Forest Regressor with default parameters\n",
    "rf_model = RandomForestRegressor(random_state=42, n_estimators=100)\n",
    "\n",
    "# Train the model on the training data\n",
    "rf_model.fit(X_train, y_train)\n",
    "\n",
    "# Predict on the test set\n",
    "y_pred_rf = rf_model.predict(X_test)\n",
    "\n",
    "# Calculate evaluation metrics\n",
    "mae_rf = mean_absolute_error(y_test, y_pred_rf)\n",
    "mse_rf = mean_squared_error(y_test, y_pred_rf)\n",
    "rmse_rf = mse_rf ** 0.5\n",
    "\n",
    "# Display results\n",
    "print(f\"Random Forest Regressor MAE: {mae_rf}\")\n",
    "print(f\"Random Forest Regressor MSE: {mse_rf}\")\n",
    "print(f\"Random Forest Regressor RMSE: {rmse_rf}\")"
   ]
  },
  {
   "cell_type": "code",
   "execution_count": 72,
   "id": "effdcdec-ae65-444c-8db6-92a4c4508540",
   "metadata": {},
   "outputs": [
    {
     "name": "stdout",
     "output_type": "stream",
     "text": [
      "Gradient Boosting Regressor MAE: 16.97461946079102\n",
      "Gradient Boosting Regressor MSE: 560.9843109683987\n",
      "Gradient Boosting Regressor RMSE: 23.685107366621725\n"
     ]
    }
   ],
   "source": [
    "from sklearn.ensemble import GradientBoostingRegressor\n",
    "from sklearn.metrics import mean_absolute_error, mean_squared_error\n",
    "\n",
    "# Initialize the Gradient Boosting Regressor with default parameters\n",
    "gb_model = GradientBoostingRegressor(random_state=42)\n",
    "\n",
    "# Train the model on the training data\n",
    "gb_model.fit(X_train, y_train)\n",
    "\n",
    "# Predict on the test set\n",
    "y_pred_gb = gb_model.predict(X_test)\n",
    "\n",
    "# Calculate evaluation metrics\n",
    "mae_gb = mean_absolute_error(y_test, y_pred_gb)\n",
    "mse_gb = mean_squared_error(y_test, y_pred_gb)\n",
    "rmse_gb = mse_gb ** 0.5\n",
    "\n",
    "# Display results\n",
    "print(f\"Gradient Boosting Regressor MAE: {mae_gb}\")\n",
    "print(f\"Gradient Boosting Regressor MSE: {mse_gb}\")\n",
    "print(f\"Gradient Boosting Regressor RMSE: {rmse_gb}\")"
   ]
  },
  {
   "cell_type": "code",
   "execution_count": 73,
   "id": "3781047b-b7a9-4d64-b362-85ce26f42459",
   "metadata": {},
   "outputs": [
    {
     "data": {
      "image/png": "[encoded data removed]",
      "text/plain": [
       "<Figure size 1000x600 with 1 Axes>"
      ]
     },
     "metadata": {},
     "output_type": "display_data"
    }
   ],
   "source": [
    "# Define the metrics for each model\n",
    "models = ['Linear Regression', 'Decision Tree', 'Random Forest', 'Gradient Boosting']\n",
    "mae_scores = [24.98, 7.46, 6.84, 16.97]\n",
    "mse_scores = [921.75, 426.03, 229.75, 560.98]\n",
    "rmse_scores = [30.36, 20.64, 15.16, 23.69]\n",
    "\n",
    "# Define the position of the bars on the x-axis\n",
    "x = np.arange(len(models))\n",
    "\n",
    "# Define the width of each bar\n",
    "width = 0.25\n",
    "\n",
    "# Plot each metric\n",
    "fig, ax = plt.subplots(figsize=(10, 6))\n",
    "bar1 = ax.bar(x - width, mae_scores, width, label='MAE')\n",
    "bar2 = ax.bar(x, mse_scores, width, label='MSE')\n",
    "bar3 = ax.bar(x + width, rmse_scores, width, label='RMSE')\n",
    "\n",
    "# Add labels, title, and custom x-axis tick labels\n",
    "ax.set_xlabel('Models')\n",
    "ax.set_ylabel('Error Metrics')\n",
    "ax.set_title('Model Evaluation Metrics')\n",
    "ax.set_xticks(x)\n",
    "ax.set_xticklabels(models)\n",
    "ax.legend()\n",
    "\n",
    "# Display the values on top of the bars for clarity\n",
    "for bars in [bar1, bar2, bar3]:\n",
    "    for bar in bars:\n",
    "        yval = bar.get_height()\n",
    "        ax.text(bar.get_x() + bar.get_width()/2, yval + 5, round(yval, 2), ha='center', va='bottom')\n",
    "\n",
    "plt.show()\n"
   ]
  },
  {
   "cell_type": "markdown",
   "id": "ebebb668-3a52-407c-ab9f-ee7c4ed7e19d",
   "metadata": {},
   "source": [
    "### Hyperparameter Tuning"
   ]
  },
  {
   "cell_type": "markdown",
   "id": "75af427d-5fb0-4fc4-8a58-00bf1cea53e8",
   "metadata": {},
   "source": [
    "Since Random Forest has the highest R² score here, hypertuning this model can further enhance its performance. Also, Gradient Boosting also has potential to improve its accuracy."
   ]
  },
  {
   "cell_type": "markdown",
   "id": "e2f7af8c-a7f4-4469-9410-0c839a02fb18",
   "metadata": {},
   "source": [
    "### Retrieve Best Parameters and Evaluate"
   ]
  },
  {
   "cell_type": "markdown",
   "id": "e947c787-a2c8-4470-98b4-66f697e5289f",
   "metadata": {},
   "source": [
    "After fitting the RandomizedSearchCV, now I can retrieve the best hyperparameters and evaluate the optimized models on my test set."
   ]
  },
  {
   "cell_type": "code",
   "execution_count": 84,
   "id": "2a0f54fe-5101-4bd1-b878-e63ba36557e4",
   "metadata": {},
   "outputs": [],
   "source": [
    "from sklearn.model_selection import RandomizedSearchCV\n",
    "# parameter grid for Random Forest \n",
    "rf_param_grid = {\n",
    "    'n_estimators': [50, 100, 200],\n",
    "    'max_depth': [10, 20, None],\n",
    "    'min_samples_split': [2, 5],\n",
    "    'min_samples_leaf': [1, 2],\n",
    "    'max_features': ['sqrt', 'log2'] \n",
    "}"
   ]
  },
  {
   "cell_type": "code",
   "execution_count": 88,
   "id": "8cd8255a-c33c-424d-8502-e683f9131583",
   "metadata": {},
   "outputs": [],
   "source": [
    "# parameter grid for Gradient Boosting\n",
    "gb_param_grid = {\n",
    "    'n_estimators': [50, 100, 150],\n",
    "    'learning_rate': [0.05, 0.1],\n",
    "    'max_depth': [3, 5],\n",
    "    'min_samples_split': [2, 5],\n",
    "    'min_samples_leaf': [1, 2],\n",
    "    'subsample': [0.8, 1.0]\n",
    "}"
   ]
  },
  {
   "cell_type": "code",
   "execution_count": 90,
   "id": "374070ea-113b-42b2-b2d7-4c19e00e8432",
   "metadata": {},
   "outputs": [],
   "source": [
    "# Initialize models\n",
    "rf_model = RandomForestRegressor(random_state=42)\n",
    "gb_model = GradientBoostingRegressor(random_state=42)"
   ]
  },
  {
   "cell_type": "code",
   "execution_count": 94,
   "id": "eda4bc81-b677-4abe-b969-e9cd95cfa8f9",
   "metadata": {},
   "outputs": [],
   "source": [
    "# RandomizedSearchCV for Random Forest and Gradient Boosting\n",
    "rf_random_search = RandomizedSearchCV(\n",
    "    estimator=rf_model,\n",
    "    param_distributions=rf_param_grid,\n",
    "    n_iter=20, \n",
    "    cv=3,      \n",
    "    scoring='neg_mean_squared_error',\n",
    "    random_state=42,\n",
    "    n_jobs=-1\n",
    ")"
   ]
  },
  {
   "cell_type": "code",
   "execution_count": 96,
   "id": "9debfc5b-ca66-49d9-be55-ebda3eab2f4c",
   "metadata": {},
   "outputs": [],
   "source": [
    "gb_random_search = RandomizedSearchCV(\n",
    "    estimator=gb_model,\n",
    "    param_distributions=gb_param_grid,\n",
    "    n_iter=20,\n",
    "    cv=3,\n",
    "    scoring='neg_mean_squared_error',\n",
    "    random_state=42,\n",
    "    n_jobs=-1\n",
    ")"
   ]
  },
  {
   "cell_type": "code",
   "execution_count": 98,
   "id": "c6c96be8-7ed6-4cd4-93bd-51f96e87f0da",
   "metadata": {},
   "outputs": [
    {
     "data": {
      "text/html": [
       "<style>#sk-container-id-1 {color: black;background-color: white;}#sk-container-id-1 pre{padding: 0;}#sk-container-id-1 div.sk-toggleable {background-color: white;}#sk-container-id-1 label.sk-toggleable__label {cursor: pointer;display: block;width: 100%;margin-bottom: 0;padding: 0.3em;box-sizing: border-box;text-align: center;}#sk-container-id-1 label.sk-toggleable__label-arrow:before {content: \"▸\";float: left;margin-right: 0.25em;color: #696969;}#sk-container-id-1 label.sk-toggleable__label-arrow:hover:before {color: black;}#sk-container-id-1 div.sk-estimator:hover label.sk-toggleable__label-arrow:before {color: black;}#sk-container-id-1 div.sk-toggleable__content {max-height: 0;max-width: 0;overflow: hidden;text-align: left;background-color: #f0f8ff;}#sk-container-id-1 div.sk-toggleable__content pre {margin: 0.2em;color: black;border-radius: 0.25em;background-color: #f0f8ff;}#sk-container-id-1 input.sk-toggleable__control:checked~div.sk-toggleable__content {max-height: 200px;max-width: 100%;overflow: auto;}#sk-container-id-1 input.sk-toggleable__control:checked~label.sk-toggleable__label-arrow:before {content: \"▾\";}#sk-container-id-1 div.sk-estimator input.sk-toggleable__control:checked~label.sk-toggleable__label {background-color: #d4ebff;}#sk-container-id-1 div.sk-label input.sk-toggleable__control:checked~label.sk-toggleable__label {background-color: #d4ebff;}#sk-container-id-1 input.sk-hidden--visually {border: 0;clip: rect(1px 1px 1px 1px);clip: rect(1px, 1px, 1px, 1px);height: 1px;margin: -1px;overflow: hidden;padding: 0;position: absolute;width: 1px;}#sk-container-id-1 div.sk-estimator {font-family: monospace;background-color: #f0f8ff;border: 1px dotted black;border-radius: 0.25em;box-sizing: border-box;margin-bottom: 0.5em;}#sk-container-id-1 div.sk-estimator:hover {background-color: #d4ebff;}#sk-container-id-1 div.sk-parallel-item::after {content: \"\";width: 100%;border-bottom: 1px solid gray;flex-grow: 1;}#sk-container-id-1 div.sk-label:hover label.sk-toggleable__label {background-color: #d4ebff;}#sk-container-id-1 div.sk-serial::before {content: \"\";position: absolute;border-left: 1px solid gray;box-sizing: border-box;top: 0;bottom: 0;left: 50%;z-index: 0;}#sk-container-id-1 div.sk-serial {display: flex;flex-direction: column;align-items: center;background-color: white;padding-right: 0.2em;padding-left: 0.2em;position: relative;}#sk-container-id-1 div.sk-item {position: relative;z-index: 1;}#sk-container-id-1 div.sk-parallel {display: flex;align-items: stretch;justify-content: center;background-color: white;position: relative;}#sk-container-id-1 div.sk-item::before, #sk-container-id-1 div.sk-parallel-item::before {content: \"\";position: absolute;border-left: 1px solid gray;box-sizing: border-box;top: 0;bottom: 0;left: 50%;z-index: -1;}#sk-container-id-1 div.sk-parallel-item {display: flex;flex-direction: column;z-index: 1;position: relative;background-color: white;}#sk-container-id-1 div.sk-parallel-item:first-child::after {align-self: flex-end;width: 50%;}#sk-container-id-1 div.sk-parallel-item:last-child::after {align-self: flex-start;width: 50%;}#sk-container-id-1 div.sk-parallel-item:only-child::after {width: 0;}#sk-container-id-1 div.sk-dashed-wrapped {border: 1px dashed gray;margin: 0 0.4em 0.5em 0.4em;box-sizing: border-box;padding-bottom: 0.4em;background-color: white;}#sk-container-id-1 div.sk-label label {font-family: monospace;font-weight: bold;display: inline-block;line-height: 1.2em;}#sk-container-id-1 div.sk-label-container {text-align: center;}#sk-container-id-1 div.sk-container {/* jupyter's `normalize.less` sets `[hidden] { display: none; }` but bootstrap.min.css set `[hidden] { display: none !important; }` so we also need the `!important` here to be able to override the default hidden behavior on the sphinx rendered scikit-learn.org. See: https://github.com/scikit-learn/scikit-learn/issues/21755 */display: inline-block !important;position: relative;}#sk-container-id-1 div.sk-text-repr-fallback {display: none;}</style><div id=\"sk-container-id-1\" class=\"sk-top-container\"><div class=\"sk-text-repr-fallback\"><pre>RandomizedSearchCV(cv=3, estimator=GradientBoostingRegressor(random_state=42),\n",
       "                   n_iter=20, n_jobs=-1,\n",
       "                   param_distributions={&#x27;learning_rate&#x27;: [0.05, 0.1],\n",
       "                                        &#x27;max_depth&#x27;: [3, 5],\n",
       "                                        &#x27;min_samples_leaf&#x27;: [1, 2],\n",
       "                                        &#x27;min_samples_split&#x27;: [2, 5],\n",
       "                                        &#x27;n_estimators&#x27;: [50, 100, 150],\n",
       "                                        &#x27;subsample&#x27;: [0.8, 1.0]},\n",
       "                   random_state=42, scoring=&#x27;neg_mean_squared_error&#x27;)</pre><b>In a Jupyter environment, please rerun this cell to show the HTML representation or trust the notebook. <br />On GitHub, the HTML representation is unable to render, please try loading this page with nbviewer.org.</b></div><div class=\"sk-container\" hidden><div class=\"sk-item sk-dashed-wrapped\"><div class=\"sk-label-container\"><div class=\"sk-label sk-toggleable\"><input class=\"sk-toggleable__control sk-hidden--visually\" id=\"sk-estimator-id-1\" type=\"checkbox\" ><label for=\"sk-estimator-id-1\" class=\"sk-toggleable__label sk-toggleable__label-arrow\">RandomizedSearchCV</label><div class=\"sk-toggleable__content\"><pre>RandomizedSearchCV(cv=3, estimator=GradientBoostingRegressor(random_state=42),\n",
       "                   n_iter=20, n_jobs=-1,\n",
       "                   param_distributions={&#x27;learning_rate&#x27;: [0.05, 0.1],\n",
       "                                        &#x27;max_depth&#x27;: [3, 5],\n",
       "                                        &#x27;min_samples_leaf&#x27;: [1, 2],\n",
       "                                        &#x27;min_samples_split&#x27;: [2, 5],\n",
       "                                        &#x27;n_estimators&#x27;: [50, 100, 150],\n",
       "                                        &#x27;subsample&#x27;: [0.8, 1.0]},\n",
       "                   random_state=42, scoring=&#x27;neg_mean_squared_error&#x27;)</pre></div></div></div><div class=\"sk-parallel\"><div class=\"sk-parallel-item\"><div class=\"sk-item\"><div class=\"sk-label-container\"><div class=\"sk-label sk-toggleable\"><input class=\"sk-toggleable__control sk-hidden--visually\" id=\"sk-estimator-id-2\" type=\"checkbox\" ><label for=\"sk-estimator-id-2\" class=\"sk-toggleable__label sk-toggleable__label-arrow\">estimator: GradientBoostingRegressor</label><div class=\"sk-toggleable__content\"><pre>GradientBoostingRegressor(random_state=42)</pre></div></div></div><div class=\"sk-serial\"><div class=\"sk-item\"><div class=\"sk-estimator sk-toggleable\"><input class=\"sk-toggleable__control sk-hidden--visually\" id=\"sk-estimator-id-3\" type=\"checkbox\" ><label for=\"sk-estimator-id-3\" class=\"sk-toggleable__label sk-toggleable__label-arrow\">GradientBoostingRegressor</label><div class=\"sk-toggleable__content\"><pre>GradientBoostingRegressor(random_state=42)</pre></div></div></div></div></div></div></div></div></div></div>"
      ],
      "text/plain": [
       "RandomizedSearchCV(cv=3, estimator=GradientBoostingRegressor(random_state=42),\n",
       "                   n_iter=20, n_jobs=-1,\n",
       "                   param_distributions={'learning_rate': [0.05, 0.1],\n",
       "                                        'max_depth': [3, 5],\n",
       "                                        'min_samples_leaf': [1, 2],\n",
       "                                        'min_samples_split': [2, 5],\n",
       "                                        'n_estimators': [50, 100, 150],\n",
       "                                        'subsample': [0.8, 1.0]},\n",
       "                   random_state=42, scoring='neg_mean_squared_error')"
      ]
     },
     "execution_count": 98,
     "metadata": {},
     "output_type": "execute_result"
    }
   ],
   "source": [
    "# Fit models on the training data\n",
    "rf_random_search.fit(X_train, y_train)  # Replace with X_sample, y_sample if sampling\n",
    "gb_random_search.fit(X_train, y_train)  # Replace with X_sample, y_sample if sampling"
   ]
  },
  {
   "cell_type": "code",
   "execution_count": 100,
   "id": "41d18f10-addd-4922-8edc-1e8fda719689",
   "metadata": {},
   "outputs": [
    {
     "name": "stdout",
     "output_type": "stream",
     "text": [
      "Best Random Forest parameters: {'n_estimators': 200, 'min_samples_split': 2, 'min_samples_leaf': 1, 'max_features': 'sqrt', 'max_depth': None}\n",
      "Best Gradient Boosting parameters: {'subsample': 0.8, 'n_estimators': 150, 'min_samples_split': 5, 'min_samples_leaf': 2, 'max_depth': 5, 'learning_rate': 0.1}\n"
     ]
    }
   ],
   "source": [
    "# Best parameters for Random Forest and Gradient Boosting\n",
    "print(\"Best Random Forest parameters:\", rf_random_search.best_params_)\n",
    "print(\"Best Gradient Boosting parameters:\", gb_random_search.best_params_)"
   ]
  },
  {
   "cell_type": "code",
   "execution_count": 102,
   "id": "3052b95b-9163-44c0-9079-0a5d713f84ef",
   "metadata": {},
   "outputs": [
    {
     "name": "stdout",
     "output_type": "stream",
     "text": [
      "Best Random Forest score (neg MSE): -301.9145270094732\n",
      "Best Gradient Boosting score (neg MSE): -370.4018860173433\n"
     ]
    }
   ],
   "source": [
    "# Best score achieved with those parameters (negative MSE in this case)\n",
    "print(\"Best Random Forest score (neg MSE):\", rf_random_search.best_score_)\n",
    "print(\"Best Gradient Boosting score (neg MSE):\", gb_random_search.best_score_)"
   ]
  },
  {
   "cell_type": "code",
   "execution_count": 104,
   "id": "b7160cdd-7877-468e-ac53-d0e488640274",
   "metadata": {},
   "outputs": [],
   "source": [
    "# Get the best models\n",
    "best_rf_model = rf_random_search.best_estimator_\n",
    "best_gb_model = gb_random_search.best_estimator_"
   ]
  },
  {
   "cell_type": "code",
   "execution_count": 106,
   "id": "c943fd37-ad3a-49f1-a095-cf24ad4414c1",
   "metadata": {},
   "outputs": [],
   "source": [
    "# Predict and evaluate on the test set\n",
    "from sklearn.metrics import mean_absolute_error, mean_squared_error\n",
    "y_pred_rf = best_rf_model.predict(X_test)\n",
    "y_pred_gb = best_gb_model.predict(X_test)"
   ]
  },
  {
   "cell_type": "code",
   "execution_count": 108,
   "id": "d12773cd-5bfa-4599-9193-08c9e15de656",
   "metadata": {},
   "outputs": [
    {
     "name": "stdout",
     "output_type": "stream",
     "text": [
      "Tuned Random Forest - MAE: 9.156329871154352, MSE: 280.1245357438577, RMSE: 16.736921334100177\n"
     ]
    }
   ],
   "source": [
    "# Random Forest performance\n",
    "mae_rf = mean_absolute_error(y_test, y_pred_rf)\n",
    "mse_rf = mean_squared_error(y_test, y_pred_rf)\n",
    "rmse_rf = mse_rf ** 0.5\n",
    "print(f\"Tuned Random Forest - MAE: {mae_rf}, MSE: {mse_rf}, RMSE: {rmse_rf}\")"
   ]
  },
  {
   "cell_type": "code",
   "execution_count": 110,
   "id": "d0dd862e-94c4-4f57-9545-86c6ef6c84f9",
   "metadata": {},
   "outputs": [
    {
     "name": "stdout",
     "output_type": "stream",
     "text": [
      "Tuned Gradient Boosting - MAE: 11.438355859768228, MSE: 347.59518348294097, RMSE: 18.64390472736173\n"
     ]
    }
   ],
   "source": [
    "# Gradient Boosting performance\n",
    "mae_gb = mean_absolute_error(y_test, y_pred_gb)\n",
    "mse_gb = mean_squared_error(y_test, y_pred_gb)\n",
    "rmse_gb = mse_gb ** 0.5\n",
    "print(f\"Tuned Gradient Boosting - MAE: {mae_gb}, MSE: {mse_gb}, RMSE: {rmse_gb}\")"
   ]
  },
  {
   "cell_type": "code",
   "execution_count": 120,
   "id": "8f22842c-3c0f-4ab7-bf48-9f4112641f57",
   "metadata": {},
   "outputs": [
    {
     "data": {
      "text/html": [
       "<div>\n",
       "<style scoped>\n",
       "    .dataframe tbody tr th:only-of-type {\n",
       "        vertical-align: middle;\n",
       "    }\n",
       "\n",
       "    .dataframe tbody tr th {\n",
       "        vertical-align: top;\n",
       "    }\n",
       "\n",
       "    .dataframe thead th {\n",
       "        text-align: right;\n",
       "    }\n",
       "</style>\n",
       "<table border=\"1\" class=\"dataframe\">\n",
       "  <thead>\n",
       "    <tr style=\"text-align: right;\">\n",
       "      <th></th>\n",
       "      <th>Actual Length of Stay</th>\n",
       "      <th>Predicted Length of Stay</th>\n",
       "      <th>Absolute Error</th>\n",
       "    </tr>\n",
       "  </thead>\n",
       "  <tbody>\n",
       "    <tr>\n",
       "      <th>0</th>\n",
       "      <td>26</td>\n",
       "      <td>25.0550</td>\n",
       "      <td>0.945</td>\n",
       "    </tr>\n",
       "    <tr>\n",
       "      <th>1</th>\n",
       "      <td>2</td>\n",
       "      <td>74.5400</td>\n",
       "      <td>72.54</td>\n",
       "    </tr>\n",
       "    <tr>\n",
       "      <th>2</th>\n",
       "      <td>86</td>\n",
       "      <td>73.5650</td>\n",
       "      <td>12.435</td>\n",
       "    </tr>\n",
       "    <tr>\n",
       "      <th>3</th>\n",
       "      <td>99</td>\n",
       "      <td>84.2300</td>\n",
       "      <td>14.77</td>\n",
       "    </tr>\n",
       "    <tr>\n",
       "      <th>4</th>\n",
       "      <td>88</td>\n",
       "      <td>79.7475</td>\n",
       "      <td>8.2525</td>\n",
       "    </tr>\n",
       "    <tr>\n",
       "      <th>5</th>\n",
       "      <td>58</td>\n",
       "      <td>57.6550</td>\n",
       "      <td>0.345</td>\n",
       "    </tr>\n",
       "    <tr>\n",
       "      <th>6</th>\n",
       "      <td>29</td>\n",
       "      <td>31.4600</td>\n",
       "      <td>2.46</td>\n",
       "    </tr>\n",
       "    <tr>\n",
       "      <th>7</th>\n",
       "      <td>99</td>\n",
       "      <td>68.1900</td>\n",
       "      <td>30.81</td>\n",
       "    </tr>\n",
       "    <tr>\n",
       "      <th>8</th>\n",
       "      <td>27</td>\n",
       "      <td>34.1100</td>\n",
       "      <td>7.11</td>\n",
       "    </tr>\n",
       "    <tr>\n",
       "      <th>9</th>\n",
       "      <td>88</td>\n",
       "      <td>76.3300</td>\n",
       "      <td>11.67</td>\n",
       "    </tr>\n",
       "  </tbody>\n",
       "</table>\n",
       "</div>"
      ],
      "text/plain": [
       "  Actual Length of Stay  Predicted Length of Stay Absolute Error\n",
       "0                    26                   25.0550          0.945\n",
       "1                     2                   74.5400          72.54\n",
       "2                    86                   73.5650         12.435\n",
       "3                    99                   84.2300          14.77\n",
       "4                    88                   79.7475         8.2525\n",
       "5                    58                   57.6550          0.345\n",
       "6                    29                   31.4600           2.46\n",
       "7                    99                   68.1900          30.81\n",
       "8                    27                   34.1100           7.11\n",
       "9                    88                   76.3300          11.67"
      ]
     },
     "execution_count": 120,
     "metadata": {},
     "output_type": "execute_result"
    }
   ],
   "source": [
    "# Assuming best_rf_model is the tuned Random Forest model and X_test is the test data\n",
    "preds = best_rf_model.predict(X_test)  # Generate predictions with Random Forest\n",
    "\n",
    "# Calculate absolute error for each prediction\n",
    "absolute_error = abs(y_test - preds)\n",
    "\n",
    "# Create the DataFrame\n",
    "los_comparison_df = pd.DataFrame({\n",
    "    \"Actual Length of Stay\": y_test,\n",
    "    \"Predicted Length of Stay\": preds,\n",
    "    \"Absolute Error\": absolute_error\n",
    "})\n",
    "\n",
    "los_comparison_df.reset_index(drop=True, inplace=True)\n",
    "los_comparison_df.head (10) \n"
   ]
  },
  {
   "cell_type": "code",
   "execution_count": 138,
   "id": "828282c8-9d6e-4801-ac58-15079f4eece8",
   "metadata": {},
   "outputs": [
    {
     "name": "stdout",
     "output_type": "stream",
     "text": [
      "Number of close predictions (within 10 days): 5576\n",
      "Percentage of close predictions: 73.31%\n"
     ]
    }
   ],
   "source": [
    "# Define a threshold for \"close\" predictions, e.g., 10 days\n",
    "threshold = 10\n",
    "\n",
    "# Count the number of cases where the Absolute Error is within the threshold\n",
    "close_predictions = los_comparison_df[los_comparison_df[\"Absolute Error\"] <= threshold].shape[0]\n",
    "\n",
    "# Calculate the percentage of close predictions\n",
    "total_predictions = los_comparison_df.shape[0]\n",
    "percentage_close = (close_predictions / total_predictions) * 100\n",
    "\n",
    "print(f\"Number of close predictions (within {threshold} days): {close_predictions}\")\n",
    "print(f\"Percentage of close predictions: {percentage_close:.2f}%\")\n"
   ]
  },
  {
   "cell_type": "markdown",
   "id": "75ac17aa-48cd-456c-9c1f-a78452188ecf",
   "metadata": {},
   "source": [
    "### Conclusion"
   ]
  },
  {
   "cell_type": "markdown",
   "id": "1f0db600-4e9f-45b0-970b-15f153694a12",
   "metadata": {},
   "source": [
    "The Tuned Random Forest model is the best for predicting LOS, with lower MAE, MSE, and RMSE values across the board compared to Gradient Boosting.\n",
    "Interpretation of Metrics: These metrics indicate that the Random Forest model provides more accurate predictions with an average error of about 9-17 days. Although this is a good level of performance, there is still room for improvement, especially if further reduction in days is desirable. 5,576 predictions (73.31%) of the model’s predictions were within 10 days of the actual Length of Stay (LOS).\n",
    "This high percentage of close predictions demonstrates that the model performs reasonably well for the majority of cases, capturing the LOS accurately within a 10-day margin.\n",
    "This result implies that the Random Forest model will generally provide reliable LOS predictions within this error range, which may assist healthcare professionals in planning resources and discharge schedules more accurately than with the Gradient Boosting model."
   ]
  }
 ],
 "metadata": {
  "kernelspec": {
   "display_name": "Python 3 (ipykernel)",
   "language": "python",
   "name": "python3"
  },
  "language_info": {
   "codemirror_mode": {
    "name": "ipython",
    "version": 3
   },
   "file_extension": ".py",
   "mimetype": "text/x-python",
   "name": "python",
   "nbconvert_exporter": "python",
   "pygments_lexer": "ipython3",
   "version": "3.11.7"
  }
 },
 "nbformat": 4,
 "nbformat_minor": 5
}
